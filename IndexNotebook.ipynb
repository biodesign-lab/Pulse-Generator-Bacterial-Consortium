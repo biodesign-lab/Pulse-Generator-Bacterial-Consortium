{
 "cells": [
  {
   "cell_type": "markdown",
   "metadata": {},
   "source": [
    "## Codes \n",
    "\n",
    "### Inference using HMC (Stan)\n",
    "A notebook for the implementation of the sampling using Hamiltonian Monte Carlo (with the software package Stan) is given below.\n",
    "\n",
    "[Bayesian parameter inference using HMC (Stan)](Model_Fitting_HMC.ipynb)\n",
    "\n",
    "### Figures in the main text.\n",
    "\n",
    "Also a notebook for creating each individual figure in the paper is created and provided below.\n",
    "\n",
    "[Figure 2](Fig2.ipynb)\n",
    "\n",
    "[Figure 3](Fig3.ipynb)\n",
    "\n",
    "[Figure 4](Fig4.ipynb)\n",
    "\n",
    "\n",
    "### Supplementary figures\n",
    "\n",
    "[Figure S (Days 2 and 3 of the experiment with fixed r_Z)](FigS_fixZ_Days2and3.ipynb)\n",
    "\n",
    "[Figure S (Day 2 of the experiment with fixed r_X)](FigS_fixX_d2.ipynb)\n",
    "\n",
    "[Figure S (Day 3 of the experiment with fixed r_X)](FigS_fixX_d3.ipynb)\n",
    "\n",
    "[Figure S (Other network structures)](FigS_otherNetworks.ipynb)\n",
    "\n",
    "[Figure S (Model fit results)](FigS_Model_Fit.ipynb)\n",
    "\n",
    "[Figure S (Posterior distributions)](Fig_Posteriors.ipynb)\n",
    "\n",
    "[Figure S (measured vs target fractions)](FigS_measured_fractions.ipynb)\n",
    "\n",
    "[Figure S (Measured fractions at time 0 and 480 minutes)](FigS_measured_fractions_time_0_and_480.ipynb)\n",
    "\n",
    "[Figure S (Isocline exeriment measured and target fractions)](FigS_isocline_measured_and_target_fractions.ipynb)\n",
    "\n",
    "[Figure S (Model prediction based on 1 and 3 experiments)](model_pred_compare_1_and_3_exps.ipynb)\n",
    "\n",
    "[Figure S (CFU data)](FigS_CFU_OD.ipynb)\n",
    "\n"
   ]
  }
 ],
 "metadata": {
  "kernelspec": {
   "display_name": "Python 3",
   "language": "python",
   "name": "python3"
  },
  "language_info": {
   "codemirror_mode": {
    "name": "ipython",
    "version": 3
   },
   "file_extension": ".py",
   "mimetype": "text/x-python",
   "name": "python",
   "nbconvert_exporter": "python",
   "pygments_lexer": "ipython3",
   "version": "3.7.0"
  }
 },
 "nbformat": 4,
 "nbformat_minor": 2
}
